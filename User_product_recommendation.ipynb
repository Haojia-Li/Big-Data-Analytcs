{
 "cells": [
  {
   "cell_type": "code",
   "execution_count": 52,
   "metadata": {},
   "outputs": [
    {
     "name": "stdout",
     "output_type": "stream",
     "text": [
      "Requirement already satisfied: google-cloud in ./anaconda3/lib/python3.7/site-packages (0.34.0)\n",
      "Note: you may need to restart the kernel to use updated packages.\n"
     ]
    }
   ],
   "source": [
    "pip install google-cloud"
   ]
  },
  {
   "cell_type": "code",
   "execution_count": 53,
   "metadata": {},
   "outputs": [
    {
     "name": "stdout",
     "output_type": "stream",
     "text": [
      "Collecting google-cloud-storage\n",
      "  Using cached google_cloud_storage-1.28.1-py2.py3-none-any.whl (80 kB)\n",
      "Collecting google-cloud-core<2.0dev,>=1.2.0\n",
      "  Using cached google_cloud_core-1.3.0-py2.py3-none-any.whl (26 kB)\n",
      "Collecting google-auth<2.0dev,>=1.11.0\n",
      "  Using cached google_auth-1.14.2-py2.py3-none-any.whl (89 kB)\n",
      "Collecting google-resumable-media<0.6dev,>=0.5.0\n",
      "  Using cached google_resumable_media-0.5.0-py2.py3-none-any.whl (38 kB)\n",
      "Collecting google-api-core<2.0.0dev,>=1.16.0\n",
      "  Using cached google_api_core-1.17.0-py2.py3-none-any.whl (70 kB)\n",
      "Collecting six>=1.9.0\n",
      "  Using cached six-1.14.0-py2.py3-none-any.whl (10 kB)\n",
      "Collecting cachetools<5.0,>=2.0.0\n",
      "  Using cached cachetools-4.1.0-py3-none-any.whl (10 kB)\n",
      "Collecting pyasn1-modules>=0.2.1\n",
      "  Using cached pyasn1_modules-0.2.8-py2.py3-none-any.whl (155 kB)\n",
      "Collecting rsa<4.1,>=3.1.4\n",
      "  Using cached rsa-4.0-py2.py3-none-any.whl (38 kB)\n",
      "Collecting setuptools>=40.3.0\n",
      "  Using cached setuptools-46.1.3-py3-none-any.whl (582 kB)\n",
      "Processing ./.cache/pip/wheels/4c/a1/71/5e427276ceeff277fd76878d1b19fbf4587a2845015d86864b/googleapis_common_protos-1.51.0-py3-none-any.whl\n",
      "Collecting pytz\n",
      "  Using cached pytz-2020.1-py2.py3-none-any.whl (510 kB)\n",
      "Collecting requests<3.0.0dev,>=2.18.0\n",
      "  Using cached requests-2.23.0-py2.py3-none-any.whl (58 kB)\n",
      "Collecting protobuf>=3.4.0\n",
      "  Using cached protobuf-3.11.3-cp37-cp37m-manylinux1_x86_64.whl (1.3 MB)\n",
      "Collecting pyasn1<0.5.0,>=0.4.6\n",
      "  Using cached pyasn1-0.4.8-py2.py3-none-any.whl (77 kB)\n",
      "Collecting urllib3!=1.25.0,!=1.25.1,<1.26,>=1.21.1\n",
      "  Using cached urllib3-1.25.9-py2.py3-none-any.whl (126 kB)\n",
      "Collecting idna<3,>=2.5\n",
      "  Using cached idna-2.9-py2.py3-none-any.whl (58 kB)\n",
      "Collecting certifi>=2017.4.17\n",
      "  Using cached certifi-2020.4.5.1-py2.py3-none-any.whl (157 kB)\n",
      "Collecting chardet<4,>=3.0.2\n",
      "  Using cached chardet-3.0.4-py2.py3-none-any.whl (133 kB)\n",
      "\u001b[31mERROR: spyder 4.0.1 requires pyqt5<5.13; python_version >= \"3\", which is not installed.\u001b[0m\n",
      "\u001b[31mERROR: spyder 4.0.1 requires pyqtwebengine<5.13; python_version >= \"3\", which is not installed.\u001b[0m\n",
      "\u001b[31mERROR: pytest-astropy 0.8.0 requires pytest-cov>=2.0, which is not installed.\u001b[0m\n",
      "\u001b[31mERROR: pytest-astropy 0.8.0 requires pytest-filter-subpackage>=0.1, which is not installed.\u001b[0m\n",
      "\u001b[31mERROR: astroid 2.3.3 requires typed-ast<1.5,>=1.4.0; implementation_name == \"cpython\" and python_version < \"3.8\", which is not installed.\u001b[0m\n",
      "Installing collected packages: setuptools, six, protobuf, googleapis-common-protos, cachetools, pyasn1, pyasn1-modules, rsa, google-auth, pytz, urllib3, idna, certifi, chardet, requests, google-api-core, google-cloud-core, google-resumable-media, google-cloud-storage\n",
      "Successfully installed cachetools-4.1.0 certifi-2020.4.5.1 chardet-3.0.4 google-api-core-1.17.0 google-auth-1.14.2 google-cloud-core-1.3.0 google-cloud-storage-1.28.1 google-resumable-media-0.5.0 googleapis-common-protos-1.51.0 idna-2.9 protobuf-3.11.3 pyasn1-0.4.8 pyasn1-modules-0.2.8 pytz-2020.1 requests-2.23.0 rsa-4.0 setuptools-46.1.3 six-1.14.0 urllib3-1.25.9\n",
      "Note: you may need to restart the kernel to use updated packages.\n"
     ]
    }
   ],
   "source": [
    "pip install --ignore-installed google-cloud-storage"
   ]
  },
  {
   "cell_type": "code",
   "execution_count": 54,
   "metadata": {},
   "outputs": [],
   "source": [
    "from google.cloud import storage\n",
    "import os\n",
    "from io import BytesIO\n",
    "import pandas as pd\n",
    "\n",
    "#Connect to GCP bucket and assign the bucket_name and specify the file name\n",
    "bucket_name = \"jzhurecommendation1\" #Assign the bucket name where your file is stored\n",
    "storage_client = storage.Client()\n",
    "\n",
    "bucket = storage_client.get_bucket(bucket_name)"
   ]
  },
  {
   "cell_type": "code",
   "execution_count": 56,
   "metadata": {},
   "outputs": [],
   "source": [
    "blob0 = storage.blob.Blob(\"user_product_rating0.csv\",bucket)\n",
    "blob1 = storage.blob.Blob(\"user_product_rating1.csv\",bucket)\n",
    "blob2 = storage.blob.Blob(\"user_product_rating2.csv\",bucket)\n",
    "blob3 = storage.blob.Blob(\"user_product_rating3.csv\",bucket)\n",
    "blob4 = storage.blob.Blob(\"user_product_rating4.csv\",bucket)\n",
    "blob5 = storage.blob.Blob(\"user_product_rating5.csv\",bucket)\n",
    "blob6 = storage.blob.Blob(\"user_product_rating6.csv\",bucket)\n",
    "blob7 = storage.blob.Blob(\"user_product_rating7.csv\",bucket)\n",
    "blob8 = storage.blob.Blob(\"user_product_rating8.csv\",bucket)\n",
    "blob9 = storage.blob.Blob(\"user_product_rating9.csv\",bucket)\n",
    "blob10 = storage.blob.Blob(\"user_product_rating10.csv\",bucket)\n",
    "content0 = blob0.download_as_string()\n",
    "train0 = pd.read_csv(BytesIO(content0))\n",
    "content1 = blob1.download_as_string()\n",
    "train1 = pd.read_csv(BytesIO(content1))\n",
    "content2 = blob2.download_as_string()\n",
    "train2 = pd.read_csv(BytesIO(content2))\n",
    "content3 = blob3.download_as_string()\n",
    "train3 = pd.read_csv(BytesIO(content3))\n",
    "content4 = blob4.download_as_string()\n",
    "train4 = pd.read_csv(BytesIO(content4))\n",
    "content5 = blob5.download_as_string()\n",
    "train5 = pd.read_csv(BytesIO(content5))\n",
    "content6 = blob6.download_as_string()\n",
    "train6 = pd.read_csv(BytesIO(content6))\n",
    "content7 = blob7.download_as_string()\n",
    "train7 = pd.read_csv(BytesIO(content7))\n",
    "content8 = blob8.download_as_string()\n",
    "train8 = pd.read_csv(BytesIO(content8))\n",
    "content9 = blob9.download_as_string()\n",
    "train9 = pd.read_csv(BytesIO(content9))\n",
    "content10 = blob10.download_as_string()\n",
    "train10 = pd.read_csv(BytesIO(content10))\n",
    "df_list = [train0,train1,train2,train3,train4,train5,train6,train7,train8,train9,train10]\n",
    "df = pd.concat(df_list)"
   ]
  },
  {
   "cell_type": "code",
   "execution_count": 58,
   "metadata": {},
   "outputs": [],
   "source": [
    "# impport everything we need for the rec sys\n",
    "from pyspark.sql.types import *\n",
    "from pyspark import SparkContext\n",
    "from pyspark.sql import SQLContext\n",
    "from pyspark.ml.evaluation import RegressionEvaluator\n",
    "from pyspark.ml.recommendation import ALS\n",
    "from pyspark.sql import Row\n",
    "from pyspark.sql import SparkSession"
   ]
  },
  {
   "cell_type": "code",
   "execution_count": 59,
   "metadata": {},
   "outputs": [],
   "source": [
    "# initialize spark session\n",
    "spark = SparkSession.builder.appName('Recommendation_system').getOrCreate()"
   ]
  },
  {
   "cell_type": "code",
   "execution_count": 60,
   "metadata": {},
   "outputs": [
    {
     "name": "stdout",
     "output_type": "stream",
     "text": [
      "+----------+-------+----------+----+--------+----------------+----+------+\n",
      "|Unnamed: 0|user_id|product_id|cart|purchase|remove_from_cart|view|rating|\n",
      "+----------+-------+----------+----+--------+----------------+----+------+\n",
      "|         0| 465496|   5769989| 0.0|     0.0|             0.0| 1.0|   1.0|\n",
      "|         1| 465496|   5865524| 0.0|     0.0|             0.0| 1.0|   1.0|\n",
      "|         2| 465496|   5865526| 0.0|     0.0|             0.0| 1.0|   1.0|\n",
      "|         3|1120748|      5240| 0.0|     0.0|             0.0| 1.0|   1.0|\n",
      "|         4|1180452|   5881337| 0.0|     0.0|             0.0| 1.0|   1.0|\n",
      "|         5|1458813|   5542414| 0.0|     0.0|             0.0| 1.0|   1.0|\n",
      "|         6|1458813|   5711078| 0.0|     0.0|             0.0| 1.0|   1.0|\n",
      "|         7|1458813|   5711087| 0.0|     0.0|             0.0| 2.0|   2.0|\n",
      "|         8|1458813|   5711117| 0.0|     0.0|             0.0| 1.0|   1.0|\n",
      "|         9|1458813|   5711122| 0.0|     0.0|             0.0| 1.0|   1.0|\n",
      "|        10|1458813|   5711135| 0.0|     0.0|             0.0| 1.0|   1.0|\n",
      "|        11|1458813|   5711145| 0.0|     0.0|             0.0| 1.0|   1.0|\n",
      "|        12|1458813|   5711154| 0.0|     0.0|             0.0| 1.0|   1.0|\n",
      "|        13|1458813|   5711160| 0.0|     0.0|             0.0| 1.0|   1.0|\n",
      "|        14|1458813|   5711172| 0.0|     0.0|             0.0| 1.0|   1.0|\n",
      "|        15|1458813|   5711700| 0.0|     0.0|             0.0| 1.0|   1.0|\n",
      "|        16|1458813|   5711710| 0.0|     0.0|             0.0| 1.0|   1.0|\n",
      "|        17|1458813|   5711720| 0.0|     0.0|             0.0| 2.0|   2.0|\n",
      "|        18|1458813|   5711721| 0.0|     0.0|             0.0| 1.0|   1.0|\n",
      "|        19|1458813|   5711732| 0.0|     0.0|             0.0| 1.0|   1.0|\n",
      "+----------+-------+----------+----+--------+----------------+----+------+\n",
      "only showing top 20 rows\n",
      "\n"
     ]
    }
   ],
   "source": [
    "df = spark.createDataFrame(df)\n",
    "df.show()"
   ]
  },
  {
   "cell_type": "code",
   "execution_count": 40,
   "metadata": {},
   "outputs": [],
   "source": [
    "# create testing and training data\n",
    "(training, test) = df.randomSplit([0.8, 0.2])"
   ]
  },
  {
   "cell_type": "code",
   "execution_count": 41,
   "metadata": {},
   "outputs": [],
   "source": [
    "als = ALS(maxIter=5, regParam=0.01, userCol=\"user_id\", itemCol=\"product_id\", ratingCol=\"rating\",coldStartStrategy=\"drop\")"
   ]
  },
  {
   "cell_type": "code",
   "execution_count": 42,
   "metadata": {},
   "outputs": [],
   "source": [
    "model = als.fit(training)"
   ]
  },
  {
   "cell_type": "code",
   "execution_count": 43,
   "metadata": {},
   "outputs": [],
   "source": [
    "# generate predictions and evaluations\n",
    "predictions = model.transform(test)"
   ]
  },
  {
   "cell_type": "code",
   "execution_count": 44,
   "metadata": {},
   "outputs": [],
   "source": [
    "evaluator = RegressionEvaluator(metricName=\"rmse\", labelCol=\"rating\",predictionCol=\"prediction\")"
   ]
  },
  {
   "cell_type": "code",
   "execution_count": 45,
   "metadata": {},
   "outputs": [
    {
     "name": "stdout",
     "output_type": "stream",
     "text": [
      "Root-mean-square error = 5.998085713344712\n"
     ]
    }
   ],
   "source": [
    "rmse = evaluator.evaluate(predictions)\n",
    "print(\"Root-mean-square error = \" + str(rmse))"
   ]
  },
  {
   "cell_type": "code",
   "execution_count": 46,
   "metadata": {},
   "outputs": [],
   "source": [
    "#recommendations\n",
    "userRecs = model.recommendForAllUsers(10) # top 10 product recommendations for each user\n",
    "ProductRecs = model.recommendForAllItems(10) # top 10 user recommendations for each product"
   ]
  },
  {
   "cell_type": "code",
   "execution_count": 47,
   "metadata": {},
   "outputs": [
    {
     "name": "stdout",
     "output_type": "stream",
     "text": [
      "+---------+--------------------+\n",
      "|  user_id|     recommendations|\n",
      "+---------+--------------------+\n",
      "| 40475278|[[5688132, 21.537...|\n",
      "| 43713532|[[5585632, 65.234...|\n",
      "| 44772115|[[5864578, 13.787...|\n",
      "| 46644840|[[5882422, 3.5798...|\n",
      "| 57892031|[[5750441, 1.2156...|\n",
      "| 86002141|[[5809818, 37.532...|\n",
      "|119056202|[[5688132, 8.6079...|\n",
      "|129675214|[[5779405, 191.32...|\n",
      "|131685923|[[5688132, 44.935...|\n",
      "|137608219|[[5924417, 3.4392...|\n",
      "|142798053|[[5688132, 14.094...|\n",
      "|150545114|[[5585638, 15.739...|\n",
      "|164737612|[[5882422, 10.432...|\n",
      "|168871476|[[5700029, 74.699...|\n",
      "|175476266|[[5585632, 16.948...|\n",
      "|188409888|[[5688132, 85.243...|\n",
      "|189390340|[[5700032, 110.32...|\n",
      "|199044224|[[5677934, 13.977...|\n",
      "|201235176|[[5688132, 7.8814...|\n",
      "|204142009|[[5700029, 133.32...|\n",
      "+---------+--------------------+\n",
      "only showing top 20 rows\n",
      "\n"
     ]
    }
   ],
   "source": [
    "userRecs.show()"
   ]
  },
  {
   "cell_type": "code",
   "execution_count": 48,
   "metadata": {},
   "outputs": [],
   "source": [
    "userrecs = userRecs.toPandas()"
   ]
  },
  {
   "cell_type": "code",
   "execution_count": 49,
   "metadata": {},
   "outputs": [
    {
     "data": {
      "text/html": [
       "<div>\n",
       "<style scoped>\n",
       "    .dataframe tbody tr th:only-of-type {\n",
       "        vertical-align: middle;\n",
       "    }\n",
       "\n",
       "    .dataframe tbody tr th {\n",
       "        vertical-align: top;\n",
       "    }\n",
       "\n",
       "    .dataframe thead th {\n",
       "        text-align: right;\n",
       "    }\n",
       "</style>\n",
       "<table border=\"1\" class=\"dataframe\">\n",
       "  <thead>\n",
       "    <tr style=\"text-align: right;\">\n",
       "      <th></th>\n",
       "      <th>user_id</th>\n",
       "      <th>recommendations</th>\n",
       "    </tr>\n",
       "  </thead>\n",
       "  <tbody>\n",
       "    <tr>\n",
       "      <th>0</th>\n",
       "      <td>40475278</td>\n",
       "      <td>[(5688132, 21.537269592285156), (5585632, 12.2...</td>\n",
       "    </tr>\n",
       "    <tr>\n",
       "      <th>1</th>\n",
       "      <td>43713532</td>\n",
       "      <td>[(5585632, 65.2342758178711), (5688132, 61.540...</td>\n",
       "    </tr>\n",
       "    <tr>\n",
       "      <th>2</th>\n",
       "      <td>44772115</td>\n",
       "      <td>[(5864578, 13.78724479675293), (5842139, 11.05...</td>\n",
       "    </tr>\n",
       "    <tr>\n",
       "      <th>3</th>\n",
       "      <td>46644840</td>\n",
       "      <td>[(5882422, 3.5798707008361816), (5802431, 2.68...</td>\n",
       "    </tr>\n",
       "    <tr>\n",
       "      <th>4</th>\n",
       "      <td>57892031</td>\n",
       "      <td>[(5750441, 1.215654969215393), (5820786, 0.999...</td>\n",
       "    </tr>\n",
       "  </tbody>\n",
       "</table>\n",
       "</div>"
      ],
      "text/plain": [
       "    user_id                                    recommendations\n",
       "0  40475278  [(5688132, 21.537269592285156), (5585632, 12.2...\n",
       "1  43713532  [(5585632, 65.2342758178711), (5688132, 61.540...\n",
       "2  44772115  [(5864578, 13.78724479675293), (5842139, 11.05...\n",
       "3  46644840  [(5882422, 3.5798707008361816), (5802431, 2.68...\n",
       "4  57892031  [(5750441, 1.215654969215393), (5820786, 0.999..."
      ]
     },
     "execution_count": 49,
     "metadata": {},
     "output_type": "execute_result"
    }
   ],
   "source": [
    "userrecs.head()"
   ]
  },
  {
   "cell_type": "code",
   "execution_count": 50,
   "metadata": {},
   "outputs": [
    {
     "data": {
      "text/html": [
       "<div>\n",
       "<style scoped>\n",
       "    .dataframe tbody tr th:only-of-type {\n",
       "        vertical-align: middle;\n",
       "    }\n",
       "\n",
       "    .dataframe tbody tr th {\n",
       "        vertical-align: top;\n",
       "    }\n",
       "\n",
       "    .dataframe thead th {\n",
       "        text-align: right;\n",
       "    }\n",
       "</style>\n",
       "<table border=\"1\" class=\"dataframe\">\n",
       "  <thead>\n",
       "    <tr style=\"text-align: right;\">\n",
       "      <th></th>\n",
       "      <th>user_id</th>\n",
       "      <th>recommendations</th>\n",
       "      <th>new_recommendations</th>\n",
       "    </tr>\n",
       "  </thead>\n",
       "  <tbody>\n",
       "    <tr>\n",
       "      <th>0</th>\n",
       "      <td>40475278</td>\n",
       "      <td>[(5688132, 21.537269592285156), (5585632, 12.2...</td>\n",
       "      <td>5688132,5585632,5882421,5760801,5882422,587106...</td>\n",
       "    </tr>\n",
       "    <tr>\n",
       "      <th>1</th>\n",
       "      <td>43713532</td>\n",
       "      <td>[(5585632, 65.2342758178711), (5688132, 61.540...</td>\n",
       "      <td>5585632,5688132,5700032,5924417,5897532,570004...</td>\n",
       "    </tr>\n",
       "    <tr>\n",
       "      <th>2</th>\n",
       "      <td>44772115</td>\n",
       "      <td>[(5864578, 13.78724479675293), (5842139, 11.05...</td>\n",
       "      <td>5864578,5842139,5700029,5797129,5822423,570343...</td>\n",
       "    </tr>\n",
       "    <tr>\n",
       "      <th>3</th>\n",
       "      <td>46644840</td>\n",
       "      <td>[(5882422, 3.5798707008361816), (5802431, 2.68...</td>\n",
       "      <td>5882422,5802431,5814731,5877789,5700049,588242...</td>\n",
       "    </tr>\n",
       "    <tr>\n",
       "      <th>4</th>\n",
       "      <td>57892031</td>\n",
       "      <td>[(5750441, 1.215654969215393), (5820786, 0.999...</td>\n",
       "      <td>5750441,5820786,5688132,5686925,5877398,586621...</td>\n",
       "    </tr>\n",
       "  </tbody>\n",
       "</table>\n",
       "</div>"
      ],
      "text/plain": [
       "    user_id                                    recommendations  \\\n",
       "0  40475278  [(5688132, 21.537269592285156), (5585632, 12.2...   \n",
       "1  43713532  [(5585632, 65.2342758178711), (5688132, 61.540...   \n",
       "2  44772115  [(5864578, 13.78724479675293), (5842139, 11.05...   \n",
       "3  46644840  [(5882422, 3.5798707008361816), (5802431, 2.68...   \n",
       "4  57892031  [(5750441, 1.215654969215393), (5820786, 0.999...   \n",
       "\n",
       "                                 new_recommendations  \n",
       "0  5688132,5585632,5882421,5760801,5882422,587106...  \n",
       "1  5585632,5688132,5700032,5924417,5897532,570004...  \n",
       "2  5864578,5842139,5700029,5797129,5822423,570343...  \n",
       "3  5882422,5802431,5814731,5877789,5700049,588242...  \n",
       "4  5750441,5820786,5688132,5686925,5877398,586621...  "
      ]
     },
     "execution_count": 50,
     "metadata": {},
     "output_type": "execute_result"
    }
   ],
   "source": [
    "def id_taker(row):\n",
    "    product_id = ''\n",
    "    for i in row['recommendations']:\n",
    "        product_id += str(i['product_id']) + ','\n",
    "    return product_id\n",
    "\n",
    "userrecs['new_recommendations'] = userrecs.apply(id_taker, axis=1)\n",
    "userrecs.head()"
   ]
  },
  {
   "cell_type": "code",
   "execution_count": 51,
   "metadata": {},
   "outputs": [],
   "source": [
    "userrecs = userrecs[['user_id', \"new_recommendations\"]]\n",
    "userrecs.columns = ['user_id', 'Recommendations']\n",
    "userrecs.to_csv('user_product_recomm.csv', index=False)"
   ]
  }
 ],
 "metadata": {
  "kernelspec": {
   "display_name": "Python 3",
   "language": "python",
   "name": "python3"
  },
  "language_info": {
   "codemirror_mode": {
    "name": "ipython",
    "version": 3
   },
   "file_extension": ".py",
   "mimetype": "text/x-python",
   "name": "python",
   "nbconvert_exporter": "python",
   "pygments_lexer": "ipython3",
   "version": "3.7.6"
  }
 },
 "nbformat": 4,
 "nbformat_minor": 4
}
